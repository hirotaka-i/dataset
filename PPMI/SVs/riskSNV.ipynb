{
 "cells": [
  {
   "cell_type": "markdown",
   "metadata": {},
   "source": [
    "# Getting the SVs close to the META 5 risk loci\n",
    "\n",
    "Take the LD structure of the variant"
   ]
  },
  {
   "cell_type": "code",
   "execution_count": 1,
   "metadata": {},
   "outputs": [],
   "source": [
    "import pandas as pd"
   ]
  },
  {
   "cell_type": "code",
   "execution_count": 2,
   "metadata": {},
   "outputs": [],
   "source": [
    "meta5 = pd.read_csv('../../../GWAS_prog/data/Meta5new.csv')\n",
    "meta5 = meta5[meta5['Failed final filtering and QC']==0]"
   ]
  },
  {
   "cell_type": "code",
   "execution_count": 3,
   "metadata": {},
   "outputs": [],
   "source": [
    "dbSNPs = meta5.SNP\n",
    "dbSNPs.to_csv('t/toextract.txt', index=False)"
   ]
  },
  {
   "cell_type": "markdown",
   "metadata": {},
   "source": [
    "# Get the genotype of 90 SNPs"
   ]
  },
  {
   "cell_type": "code",
   "execution_count": 4,
   "metadata": {},
   "outputs": [],
   "source": [
    "# meta5[['SNP', 'Effect allele']]\n",
    "df = pd.DataFrame(data = {'SNP': meta5.SNP, 'A1': meta5['Effect allele'].str.upper()})\n",
    "df[['SNP', 'A1']].to_csv('t/SNPs.txt', index=False, sep='\\t')"
   ]
  },
  {
   "cell_type": "code",
   "execution_count": 7,
   "metadata": {},
   "outputs": [
    {
     "name": "stdout",
     "output_type": "stream",
     "text": [
      "PLINK v1.90b4.4 64-bit (21 May 2017)           www.cog-genomics.org/plink/1.9/\n",
      "(C) 2005-2017 Shaun Purcell, Christopher Chang   GNU General Public License v3\n",
      "Logging to result/risk.log.\n",
      "Options in effect:\n",
      "  --bfile ../../../../PPMI_WGS/july_2018/PPMI_july2018\n",
      "  --extract t/SNPs.txt\n",
      "  --out result/risk\n",
      "  --recode A\n",
      "  --recode-allele t/SNPs.txt\n",
      "\n",
      "257652 MB RAM detected; reserving 128826 MB for main workspace.\n",
      "49900024 variants loaded from .bim file.\n",
      "1379 people (777 males, 602 females) loaded from .fam.\n",
      "1249 phenotype values loaded from .fam.\n",
      "--extract: 90 variants remaining.\n",
      "Using 1 thread (no multithreaded calculations invoked).\n",
      "Before main variant filters, 1379 founders and 0 nonfounders present.\n",
      "Calculating allele frequencies... 10111213141516171819202122232425262728293031323334353637383940414243444546474849505152535455565758596061626364656667686970717273747576777879808182838485868788899091929394959697989 done.\n",
      "Total genotyping rate is 0.999903.\n",
      "90 variants and 1379 people pass filters and QC.\n",
      "Among remaining phenotypes, 688 are cases and 561 are controls.  (130\n",
      "phenotypes are missing.)\n",
      "--recode A to result/risk.raw ... 101112131415161718192021222324252627282930313233343536373839404142434445464748495051525354555657585960616263646566676869707172737475767778798081828384858687888990919293949596979899done.\n"
     ]
    }
   ],
   "source": [
    "%%bash\n",
    "BFILE='../../../../PPMI_WGS/july_2018/PPMI_july2018'\n",
    "plink --bfile $BFILE \\\n",
    "  --extract 't/SNPs.txt' \\\n",
    "  --recode A \\\n",
    "  --recode-allele 't/SNPs.txt' \\\n",
    "  --out result/risk\n",
    "# grep 'G'$'\\t''A'$'\\t''rs35749011' $ANNOVAR_DATA/hg38/hg38_avsnp150.txt"
   ]
  },
  {
   "cell_type": "code",
   "execution_count": 9,
   "metadata": {},
   "outputs": [],
   "source": [
    "%%bash \n",
    "rm result/risk.log"
   ]
  },
  {
   "cell_type": "markdown",
   "metadata": {},
   "source": [
    "# Get the range of LD for each SNV\n",
    "Using plink tag finder    \n",
    "Need to liftover from GRCh38 to GRCh37"
   ]
  },
  {
   "cell_type": "code",
   "execution_count": 82,
   "metadata": {},
   "outputs": [],
   "source": [
    "%%bash\n",
    "mkdir LDwithM5"
   ]
  },
  {
   "cell_type": "code",
   "execution_count": 83,
   "metadata": {},
   "outputs": [
    {
     "name": "stdout",
     "output_type": "stream",
     "text": [
      "PLINK v1.90b4.4 64-bit (21 May 2017)           www.cog-genomics.org/plink/1.9/\n",
      "(C) 2005-2017 Shaun Purcell, Christopher Chang   GNU General Public License v3\n",
      "Logging to LDwithM5/plink.log.\n",
      "Options in effect:\n",
      "  --bfile ../../../../PPMI_WGS/july_2018/PPMI_july2018\n",
      "  --list-all\n",
      "  --out LDwithM5/plink\n",
      "  --show-tags t/toextract.txt\n",
      "  --tag-kb 500\n",
      "  --tag-r2 0.8\n",
      "\n",
      "257652 MB RAM detected; reserving 128826 MB for main workspace.\n",
      "49900024 variants loaded from .bim file.\n",
      "1379 people (777 males, 602 females) loaded from .fam.\n",
      "1249 phenotype values loaded from .fam.\n",
      "Using 1 thread (no multithreaded calculations invoked).\n",
      "Before main variant filters, 1379 founders and 0 nonfounders present.\n",
      "Calculating allele frequencies... 10111213141516171819202122232425262728293031323334353637383940414243444546474849505152535455565758596061626364656667686970717273747576777879808182838485868788899091929394959697989 done.\n",
      "Total genotyping rate is 0.992562.\n",
      "49900024 variants and 1379 people pass filters and QC.\n",
      "Among remaining phenotypes, 688 are cases and 561 are controls.  (130\n",
      "phenotypes are missing.)\n",
      "--show-tags: 90 target variants loaded.\n",
      "--show-tags: Main report written to LDwithM5/plink.tags.list , and simple tag\n",
      "ID list (2949 tags added) written to LDwithM5/plink.tags .\n"
     ]
    }
   ],
   "source": [
    "%%bash\n",
    "BFILE='../../../../PPMI_WGS/july_2018/PPMI_july2018'\n",
    "plink --bfile $BFILE \\\n",
    "  --recodeA\n",
    "  --show-tags 't/toextract.txt' \\\n",
    "  --list-all \\\n",
    "  --tag-kb 500 \\\n",
    "  --tag-r2 0.8 \\\n",
    "  --out LDrisk_500W/plink\n",
    "# grep 'G'$'\\t''A'$'\\t''rs35749011' $ANNOVAR_DATA/hg38/hg38_avsnp150.txt"
   ]
  },
  {
   "cell_type": "code",
   "execution_count": 18,
   "metadata": {},
   "outputs": [],
   "source": [
    "ldrange = pd.read_csv('LDrisk/plink.tags.list', delim_whitespace=True)\n",
    "t = 'chr' + ldrange['CHR'].apply(str) + ':' + ldrange['LEFT'].apply(str) + '-' + ldrange['RIGHT'].apply(str)\n",
    "t.to_csv('LDrisk/hg38_range.txt', index=False)"
   ]
  },
  {
   "cell_type": "markdown",
   "metadata": {},
   "source": [
    "liftover from with [genome browser online tool](https://genome.ucsc.edu/cgi-bin/hgLiftOver)"
   ]
  },
  {
   "cell_type": "code",
   "execution_count": 42,
   "metadata": {},
   "outputs": [],
   "source": [
    "t = pd.read_csv('LDrisk/hglft_37.bed', header=None)\n",
    "t[['chr', 'T']]= t[0].str.split(':', expand=True)\n",
    "t[['start', 'end']] = t['T'].str.split('-', expand=True)\n",
    "t['SNP'] = ldrange['SNP']\n",
    "t['LENGTH'] = t['start'].apply(int) - t['end'].apply(int)\n",
    "t[['SNP','chr', 'start', 'end', 'LENGTH']].to_csv('LDrisk/hg19_range.csv', index=False)"
   ]
  },
  {
   "cell_type": "code",
   "execution_count": 43,
   "metadata": {},
   "outputs": [],
   "source": [
    "Rscript = \"\"\"\n",
    "library(data.table);library(dplyr)\n",
    "# Paramaters\n",
    "fnames = list.files(\"manta/\")\n",
    "fnames = fnames[grep(\"PPMISI\", fnames)] # exclude some file names\n",
    "\n",
    "# filename = \"manta/PPMISI10874.diploidSV.vcf.gz\"\n",
    "# folder = tstrsplit(filename, \"/\") %>% .[[1]]\n",
    "loci= fread('LDrisk/hg19_range.csv') %>% filter(complete.cases(.)) %>% \n",
    "  select(-LENGTH) %>% data.frame()\n",
    "\n",
    "for (i in 1:length(fnames)){\n",
    "  filename = paste(\"manta\", fnames[i], sep = \"/\") \n",
    "  PATNO = tstrsplit(filename, \"PPMISI\") %>% .[[2]] %>% tstrsplit(., \"\\\\\\\\.\") %>% .[[1]]\n",
    "  output = paste(\"t/\", \"M5_PPMISI\", PATNO, sep = \"\")\n",
    "  \n",
    "  # Read diploid model outputs\n",
    "  dip = fread(cmd = paste(\"zless\", filename, \"| grep -v '##'\"))\n",
    "  dip = dip %>% filter(FILTER==\"PASS\")\n",
    "  dip = dip %>% filter(`#CHROM` %in% paste(\"chr\", c(1:22, \"X\"), sep = \"\")) %>%\n",
    "    rename(chr = `#CHROM`)\n",
    "  \n",
    "  # Filter SVs by their positions\n",
    "  j = inner_join(dip, loci, by = \"chr\") %>% \n",
    "    mutate(PATNO = as.numeric(PATNO)) %>% \n",
    "    filter(POS> start - 1000 & POS < end + 1000) %>% # 1K margin\n",
    "    fwrite(., paste(output, '1K.txt', sep = \"_\"))\n",
    "}\n",
    "\"\"\"\n",
    "with open('script/deriveRiskLoci.R', 'w') as f:\n",
    "    f.write(Rscript)"
   ]
  },
  {
   "cell_type": "code",
   "execution_count": 44,
   "metadata": {},
   "outputs": [
    {
     "name": "stdout",
     "output_type": "stream",
     "text": [
      "\n",
      "Attaching package: 'dplyr'\n",
      "\n",
      "The following objects are masked from 'package:data.table':\n",
      "\n",
      "    between, first, last\n",
      "\n",
      "The following objects are masked from 'package:stats':\n",
      "\n",
      "    filter, lag\n",
      "\n",
      "The following objects are masked from 'package:base':\n",
      "\n",
      "    intersect, setdiff, setequal, union\n",
      "\n"
     ]
    }
   ],
   "source": [
    "!Rscript --vanilla script/deriveRiskLoci.R # takes 30 min"
   ]
  },
  {
   "cell_type": "code",
   "execution_count": 45,
   "metadata": {},
   "outputs": [],
   "source": [
    "Rscript = \"\"\"\n",
    "library(data.table);library(dplyr)\n",
    "KEY = \"t/M5_*_1K.txt\"\n",
    "tempfunc = function(K){\n",
    "  t = fread(cmd = paste(\"awk 'NR==1{print;next}FNR>1{print}'\", K))\n",
    "  names(t)[10]=\"GENOTYPE\"\n",
    "  dx = fread(\"../../../PDcohorts/PPMI/out181018/DEMOG_DIAG.csv\")\n",
    "  tab = semi_join(dx, t, by = \"PATNO\") %>% with(table(RECRUIT)) %>% data.frame(.) \n",
    "  j = inner_join(t, dx, by = \"PATNO\") %>% inner_join(., tab, by=\"RECRUIT\")\n",
    "  j %>% with(table(SNP, RECRUIT))\n",
    "  dip = j %>% \n",
    "    tidyr::separate(\"GENOTYPE\", c(\"GENOTYPE\", rep(NA, 5)), sep=\":\") %>% \n",
    "    mutate(DOSE = case_when(\n",
    "      GENOTYPE==\"1/1\" ~ 2, \n",
    "      GENOTYPE==\"1/0\" ~ 1,\n",
    "      GENOTYPE==\"0/1\" ~ 1,\n",
    "      GENOTYPE==\"0/0\" ~ 0,\n",
    "      TRUE ~ 99))\n",
    "  t = dip %>% select(ID) %>%\n",
    "    tidyr::separate(ID, paste(\"V\", 1:8, sep=\"\"), sep=\":\", fill = 'right')\n",
    "  dip$TYPE = ifelse(is.na(as.numeric(t$V2)), paste(t$V1, t$V2, sep = \":\"), t$V1)\n",
    "  \n",
    "  # Get the SV length\n",
    "  t = dip %>% select(INFO) %>%\n",
    "    tidyr::separate(INFO, paste(\"V\", 1:10, sep=\"\"), sep=\";\", fill = 'right')\n",
    "  getLEN = function(x){\n",
    "    v = t[x,] %>% t %>% as.vector\n",
    "    j = grep(\"SVLEN\\\\\\\\=\", v)\n",
    "    if(length(j)==1){\n",
    "      g = v[j]\n",
    "      SVLEN = tstrsplit(g, \"\\\\\\\\=\")[[2]][1] %>% as.numeric\n",
    "    }else{SVLEN=NA}\n",
    "    return(SVLEN)\n",
    "  }\n",
    "  dip$SVLEN = lapply(1:nrow(t), getLEN) %>% unlist\n",
    "  out = sub(\"t/M5_\\\\\\\\*\", \"result/risk\", KEY) %>% sub(\"txt\", \"csv\", .) # Name for the output file\n",
    "  fwrite(dip, out, row.names = F)\n",
    "}\n",
    "tempfunc(KEY)\n",
    "\"\"\"\n",
    "with open('script/populateRiskLoci.R', 'w') as f:\n",
    "    f.write(Rscript)"
   ]
  },
  {
   "cell_type": "code",
   "execution_count": 46,
   "metadata": {},
   "outputs": [
    {
     "name": "stdout",
     "output_type": "stream",
     "text": [
      "\n",
      "Attaching package: 'dplyr'\n",
      "\n",
      "The following objects are masked from 'package:data.table':\n",
      "\n",
      "    between, first, last\n",
      "\n",
      "The following objects are masked from 'package:stats':\n",
      "\n",
      "    filter, lag\n",
      "\n",
      "The following objects are masked from 'package:base':\n",
      "\n",
      "    intersect, setdiff, setequal, union\n",
      "\n",
      "Warning messages:\n",
      "1: Column `RECRUIT` joining character vector and factor, coercing into character vector \n",
      "2: Expected 6 pieces. Missing pieces filled with `NA` in 5046 rows [6, 11, 23, 33, 42, 46, 47, 49, 50, 56, 69, 73, 74, 87, 93, 109, 119, 126, 127, 128, ...]. \n",
      "3: In ifelse(is.na(as.numeric(t$V2)), paste(t$V1, t$V2, sep = \":\"),  :\n",
      "  NAs introduced by coercion\n"
     ]
    }
   ],
   "source": [
    "!Rscript --vanilla script/populateRiskLoci.R"
   ]
  },
  {
   "cell_type": "code",
   "execution_count": 48,
   "metadata": {},
   "outputs": [],
   "source": [
    "# !head result/risk_1K.csv"
   ]
  },
  {
   "cell_type": "code",
   "execution_count": 52,
   "metadata": {},
   "outputs": [],
   "source": [
    "Rscript = \"\"\"\n",
    "library(data.table);library(dplyr)\n",
    "# derived SVs\n",
    "fname = \"result/risk_1K.csv\"\n",
    "dip = fread(fname)\n",
    "\n",
    "# risk doses\n",
    "frisk = 'result/risk.raw'\n",
    "risk = fread(frisk) %>% \n",
    "  mutate(PATNO = sub(\"PPMISI\", \"\", FID) %>% as.numeric()) %>% \n",
    "  filter(PATNO %in% unique(dip$PATNO))\n",
    "\n",
    "\n",
    "# Give SVID\n",
    "SVIDtab = dip %>% distinct(chr, POS, REF, ALT, TYPE, SVLEN) %>% \n",
    "  mutate(SVID = as.numeric(rownames(.)))\n",
    "\n",
    "# create evel df\n",
    "df = inner_join(dip, SVIDtab, by =c(\"chr\", \"POS\", \"REF\", \"ALT\", \"TYPE\", \"SVLEN\")) %>% \n",
    "  arrange(desc(QUAL)) %>% # if duplicated, take the higher QUAL\n",
    "  distinct(PATNO, SNP, SVID, DOSE) \n",
    "\n",
    "# create spread df\n",
    "SNPs = unique(dip$SNP)\n",
    "\n",
    "iterate_snp = function(snp){\n",
    "  dfs = df %>% filter(SNP == snp) %>% # extrct SVs close to a particular snp and create wide table\n",
    "    tidyr::spread(key = SVID, value = DOSE)\n",
    "  IDX = grep(paste(snp, \"_\", sep=\"\"), names(risk)) # the col num for risk snp\n",
    "  dfsc = full_join(dfs, risk[,c(IDX, ncol(risk))], by = \"PATNO\")\n",
    "  dfsc[is.na(dfsc)]=0\n",
    "# print(paste(snp, ncol(dfsc)-1))\n",
    "  SVIDs = names(dfsc)[3:(ncol(dfsc)-1)]\n",
    "  t = lapply(SVIDs, function(x) getLD(x, snp, dfsc)) %>% do.call(rbind, .) %>% data.frame()\n",
    "  return(t)\n",
    "}\n",
    "\n",
    "getLD = function(svid, snp, dfsc){\n",
    "  x = dfsc[,svid]\n",
    "  y = dfsc[, ncol(dfsc)]\n",
    "  res = lm(y~x) %>% summary\n",
    "  res = c(snp, svid, res$r.squared)\n",
    "  return(res)\n",
    "}\n",
    "\n",
    "t = lapply(SNPs, iterate_snp) %>% do.call(rbind, .) %>% data.frame() %>% \n",
    "  mutate(X2 = as.numeric(as.character(X2)),\n",
    "         X3 = as.numeric(as.character(X3)))\n",
    "\n",
    "names(t)=c(\"SNP_target\", \"SVID\", \"Rsq\")\n",
    "\n",
    "output = left_join(t, SVIDtab, by = 'SVID') %>% arrange(desc(Rsq))\n",
    "fwrite(output, \"result/risk_1K_Rsq.csv\", row.names = F)\n",
    "\"\"\"\n",
    "with open('script/RiskSV_Rsq.R', 'w') as f:\n",
    "    f.write(Rscript)"
   ]
  },
  {
   "cell_type": "code",
   "execution_count": 53,
   "metadata": {},
   "outputs": [
    {
     "name": "stdout",
     "output_type": "stream",
     "text": [
      "\n",
      "Attaching package: 'dplyr'\n",
      "\n",
      "The following objects are masked from 'package:data.table':\n",
      "\n",
      "    between, first, last\n",
      "\n",
      "The following objects are masked from 'package:stats':\n",
      "\n",
      "    filter, lag\n",
      "\n",
      "The following objects are masked from 'package:base':\n",
      "\n",
      "    intersect, setdiff, setequal, union\n",
      "\n"
     ]
    }
   ],
   "source": [
    "!Rscript --vanilla script/RiskSV_Rsq.R"
   ]
  },
  {
   "cell_type": "code",
   "execution_count": 55,
   "metadata": {},
   "outputs": [
    {
     "data": {
      "text/html": [
       "<a href='result/risk_1K_Rsq.csv' target='_blank'>result/risk_1K_Rsq.csv</a><br>"
      ],
      "text/plain": [
       "/gpfs/gsfs9/users/LNG/iwakih2/dataset/PPMI/SVs/result/risk_1K_Rsq.csv"
      ]
     },
     "execution_count": 55,
     "metadata": {},
     "output_type": "execute_result"
    }
   ],
   "source": [
    "from IPython.display import FileLink\n",
    "FileLink('result/risk_1K_Rsq.csv')"
   ]
  },
  {
   "cell_type": "code",
   "execution_count": 49,
   "metadata": {},
   "outputs": [
    {
     "name": "stdout",
     "output_type": "stream",
     "text": [
      "rs4140646,6,27738801,LOC100131289,TXNDC15,a,g,0.2081,0.0833,0.0121,5.62E-12,5.81E-12,5.62E-12,5.66E-08,2.68E-08,0,0.2037,0.095,0.0145,5.88E-11,0,0.2181,0.0568,0.0219,9.61E-03,0,T,1,0,0,29\n"
     ]
    }
   ],
   "source": [
    "!grep rs4140646 ../../../GWAS_prog/data/Meta5new.csv"
   ]
  }
 ],
 "metadata": {
  "kernelspec": {
   "display_name": "python/3.5",
   "language": "python",
   "name": "py3.5"
  },
  "language_info": {
   "codemirror_mode": {
    "name": "ipython",
    "version": 3
   },
   "file_extension": ".py",
   "mimetype": "text/x-python",
   "name": "python",
   "nbconvert_exporter": "python",
   "pygments_lexer": "ipython3",
   "version": "3.5.6"
  }
 },
 "nbformat": 4,
 "nbformat_minor": 2
}
