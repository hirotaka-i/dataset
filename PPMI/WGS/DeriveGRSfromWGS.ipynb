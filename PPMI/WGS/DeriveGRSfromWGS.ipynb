{
 "cells": [
  {
   "cell_type": "markdown",
   "metadata": {},
   "source": [
    "# Derive specific genotypings and genetic risk score\n",
    "\n",
    "Created on 2019/03/04   \n",
    "By Hirotaka Iwaki    \n",
    "\n",
    "Specific genotyping and summarized score is derived from the most recent GWAS meta-analysis at https://doi.org/10.1101/388165 (M. Nalls et.al)"
   ]
  },
  {
   "cell_type": "markdown",
   "metadata": {},
   "source": [
    "##  Genetic risk score\n",
    "### Create a folder in /lscratch and set as working directory"
   ]
  },
  {
   "cell_type": "code",
   "execution_count": 1,
   "metadata": {},
   "outputs": [
    {
     "name": "stdout",
     "output_type": "stream",
     "text": [
      "/lscratch/21965786/GRS exists\n"
     ]
    }
   ],
   "source": [
    "import pandas as pd\n",
    "import numpy as np\n",
    "import os\n",
    "import subprocess\n",
    "import glob\n",
    "from functools import partial\n",
    "from os import chdir\n",
    "import io\n",
    "from IPython.display import FileLinks, FileLink\n",
    "import datetime\n",
    "\n",
    "tmp = '/lscratch/' + os.environ['SLURM_JOB_ID'] + '/GRS'\n",
    "if os.path.exists(tmp):\n",
    "    print(tmp, 'exists')\n",
    "else:\n",
    "    os.mkdir(tmp)\n",
    "    print('Make', tmp)\n",
    "\n",
    "chdir(tmp)\n",
    "    \n",
    "def submitTerminal(command, printing=False):\n",
    "    # quick command to submit jobs to terminal\n",
    "    res=subprocess.run(command.split(' '), stdout=subprocess.PIPE)\n",
    "    if printing:\n",
    "        print(res.stdout.decode('utf-8'))\n",
    "    else:\n",
    "        return(res.stdout.decode('utf-8'))\n",
    "def read_vcf(path):\n",
    "    with open(path, 'r') as f:\n",
    "        lines = [l for l in f if not l.startswith('##')]\n",
    "    return pd.read_table(\n",
    "        io.StringIO(''.join(lines)),\n",
    "        dtype={'#CHROM': str, 'POS': int, 'ID': str, 'REF': str, 'ALT': str,\n",
    "               'QUAL': str, 'FILTER': str, 'INFO': str}\n",
    "    ).rename(columns={'#CHROM': 'CHROM'})\n",
    "\n",
    "FileLink = partial(FileLink, url_prefix=tmp)\n",
    "FileLinks = partial(FileLinks, url_prefix=tmp)"
   ]
  },
  {
   "cell_type": "code",
   "execution_count": 2,
   "metadata": {},
   "outputs": [],
   "source": [
    "df = pd.read_csv(\"/data/LNG/iwakih2/tool/meta5/Meta5new.csv\")\n",
    "risk90 = df[df['Failed final filtering and QC']==0][['SNP', 'Effect allele', 'Beta, all studies']]\n",
    "risk90['Effect allele'] = risk90['Effect allele'].str.upper()\n",
    "risk90.to_csv('score.txt', header=False, index=False, sep='\\t')"
   ]
  },
  {
   "cell_type": "code",
   "execution_count": 3,
   "metadata": {},
   "outputs": [],
   "source": [
    "sPlinkScore = 'plink --bfile {B} --score {S} --out {O}'\n",
    "COMMAND = sPlinkScore.format(B=\"/data/LNG/PPMI_WGS/july_2018/PPMI_july2018\",\n",
    "                  S = 'score.txt',\n",
    "                  O = 'score')\n",
    "t = submitTerminal(COMMAND)"
   ]
  },
  {
   "cell_type": "code",
   "execution_count": 4,
   "metadata": {},
   "outputs": [],
   "source": [
    "# create genotypes\n",
    "sPlinkVariants = 'plink --bfile {B} --extract {E} --make-bed --out {O}'\n",
    "COMMAND = sPlinkVariants.format(B=\"/data/LNG/PPMI_WGS/july_2018/PPMI_july2018\",\n",
    "                  E = 'score.txt',\n",
    "                  O = 'risk')\n",
    "sPlinkRecode = 'plink --bfile {B} --recode {R} --out {O}'\n",
    "COMMAND = sPlinkRecode.format(B=\"risk\", R = 'vcf', O = 'recode')\n",
    "t = submitTerminal(COMMAND)"
   ]
  },
  {
   "cell_type": "markdown",
   "metadata": {},
   "source": [
    "## Create report file 1\n",
    "Derive necessary information from files above\n",
    "### Score"
   ]
  },
  {
   "cell_type": "code",
   "execution_count": 5,
   "metadata": {},
   "outputs": [],
   "source": [
    "df = pd.read_table('score.profile', delim_whitespace=True)"
   ]
  },
  {
   "cell_type": "code",
   "execution_count": 6,
   "metadata": {},
   "outputs": [],
   "source": [
    "score=pd.DataFrame()\n",
    "score[['PATNO', 'TESTVALUE']]=df[['IID', 'SCORE']]\n",
    "score['TESTNAME'] = 'GRS'\n",
    "score.head()\n",
    "score.to_csv('score.csv', index=False)"
   ]
  },
  {
   "cell_type": "markdown",
   "metadata": {},
   "source": [
    "### Genotype"
   ]
  },
  {
   "cell_type": "code",
   "execution_count": 7,
   "metadata": {},
   "outputs": [],
   "source": [
    "snps = read_vcf('recode.vcf')\n",
    "snps = snps.drop(columns = ['CHROM', 'POS', 'QUAL', 'FILTER', 'INFO', 'FORMAT'])"
   ]
  },
  {
   "cell_type": "code",
   "execution_count": 8,
   "metadata": {},
   "outputs": [],
   "source": [
    "df = snps.set_index(['ID', 'REF', 'ALT']).stack().reset_index()\n",
    "df.columns=['TESTNAME', 'REF', 'ALT', 'ID', 'GENOTYPE']\n"
   ]
  },
  {
   "cell_type": "code",
   "execution_count": 9,
   "metadata": {},
   "outputs": [],
   "source": [
    "def convertResult(x):\n",
    "    if x.GENOTYPE=='0/0':\n",
    "        ans = x.REF + '/' + x.REF\n",
    "    elif x.GENOTYPE=='0/1':\n",
    "        ans = x.REF + '/' + x.ALT\n",
    "    elif x.GENOTYPE=='1/1':\n",
    "        ans = x.ALT + '/' + x.ALT\n",
    "    else:\n",
    "        ans = np.nan\n",
    "    return ans\n",
    "df['TESTVALUE'] = df.apply(convertResult, axis=1)\n",
    "df['PATNO'] = df.ID.str.split('_', expand=True)[0]"
   ]
  },
  {
   "cell_type": "code",
   "execution_count": 10,
   "metadata": {},
   "outputs": [],
   "source": [
    "df[['PATNO', 'TESTNAME', 'TESTVALUE']].to_csv('genotype.csv', index=False)"
   ]
  },
  {
   "cell_type": "markdown",
   "metadata": {},
   "source": [
    "### Combine two datasets"
   ]
  },
  {
   "cell_type": "code",
   "execution_count": 11,
   "metadata": {},
   "outputs": [],
   "source": [
    "df1 = pd.read_csv('genotype.csv')\n",
    "df2 = pd.read_csv('score.csv')\n",
    "df = pd.concat([df1, df2], ignore_index=True, sort=True)\n",
    "df = df.sort_values(['PATNO'])\n",
    "df.to_csv('resuls.csv', index=False)"
   ]
  },
  {
   "cell_type": "markdown",
   "metadata": {},
   "source": [
    "**Then combine with the barcode table**    \n",
    "The data should contain barcode, not PATNO    \n",
    "matching table is created in another script"
   ]
  },
  {
   "cell_type": "code",
   "execution_count": 13,
   "metadata": {},
   "outputs": [],
   "source": [
    "df1 = pd.read_csv('resuls.csv')\n",
    "df1.index = df1['PATNO'].str.replace('PPMISI', '') # change index for join\n",
    "\n",
    "df2 = pd.read_csv('/data/LNG/iwakih2/dataset/PPMI/WGS/Shipping/MatchingTable.csv', index_col='PATNO')\n",
    "df2 = df2[pd.isnull(df2.Unshipped)] # delete unshipped\n",
    "df2 = df2[['Reporting_ID']] # Only use this column\n",
    "\n",
    "df = df1.join(df2, how='inner')\n",
    "df = df[pd.notna(df.Reporting_ID)]\n",
    "df['PROJECTID'] = np.nan\n",
    "df['UNITS'] = np.nan\n",
    "df['SAMPLEID'] = df['Reporting_ID']\n",
    "df['RUNDATE'] = datetime.datetime.now().strftime(\"%d/%m/%Y\")"
   ]
  },
  {
   "cell_type": "code",
   "execution_count": 14,
   "metadata": {},
   "outputs": [
    {
     "data": {
      "text/plain": [
       "(122486, 8)"
      ]
     },
     "execution_count": 14,
     "metadata": {},
     "output_type": "execute_result"
    }
   ],
   "source": [
    "df.shape"
   ]
  },
  {
   "cell_type": "code",
   "execution_count": 17,
   "metadata": {},
   "outputs": [],
   "source": [
    "df[['PROJECTID', 'SAMPLEID', 'TESTNAME', 'TESTVALUE', 'UNITS', 'RUNDATE']].\\\n",
    "  to_csv('WGS_report.csv', index=False)"
   ]
  },
  {
   "cell_type": "code",
   "execution_count": 18,
   "metadata": {},
   "outputs": [
    {
     "name": "stdout",
     "output_type": "stream",
     "text": [
      "  adding: WGS_report.csv (deflated 89%)\n"
     ]
    }
   ],
   "source": [
    "!zip WGS_report.zip WGS_report.csv"
   ]
  },
  {
   "cell_type": "code",
   "execution_count": 19,
   "metadata": {},
   "outputs": [],
   "source": [
    "!cp WGS_report.zip /data/LNG/iwakih2/dataset/PPMI/WGS/reports/"
   ]
  },
  {
   "cell_type": "code",
   "execution_count": 16,
   "metadata": {},
   "outputs": [
    {
     "data": {
      "text/html": [
       "./<br>\n",
       "&nbsp;&nbsp;<a href='/lscratch/21965786/GRS./recode.log' target='_blank'>recode.log</a><br>\n",
       "&nbsp;&nbsp;<a href='/lscratch/21965786/GRS./risk.log' target='_blank'>risk.log</a><br>\n",
       "&nbsp;&nbsp;<a href='/lscratch/21965786/GRS./score.txt' target='_blank'>score.txt</a><br>\n",
       "&nbsp;&nbsp;<a href='/lscratch/21965786/GRS./score.profile' target='_blank'>score.profile</a><br>\n",
       "&nbsp;&nbsp;<a href='/lscratch/21965786/GRS./genotype.csv' target='_blank'>genotype.csv</a><br>\n",
       "&nbsp;&nbsp;<a href='/lscratch/21965786/GRS./risk.fam' target='_blank'>risk.fam</a><br>\n",
       "&nbsp;&nbsp;<a href='/lscratch/21965786/GRS./risk.bed' target='_blank'>risk.bed</a><br>\n",
       "&nbsp;&nbsp;<a href='/lscratch/21965786/GRS./resuls.csv' target='_blank'>resuls.csv</a><br>\n",
       "&nbsp;&nbsp;<a href='/lscratch/21965786/GRS./score.csv' target='_blank'>score.csv</a><br>\n",
       "&nbsp;&nbsp;<a href='/lscratch/21965786/GRS./score.log' target='_blank'>score.log</a><br>\n",
       "&nbsp;&nbsp;<a href='/lscratch/21965786/GRS./recode.vcf' target='_blank'>recode.vcf</a><br>\n",
       "&nbsp;&nbsp;<a href='/lscratch/21965786/GRS./risk.bim' target='_blank'>risk.bim</a><br>"
      ],
      "text/plain": [
       "./\n",
       "  recode.log\n",
       "  risk.log\n",
       "  score.txt\n",
       "  score.profile\n",
       "  genotype.csv\n",
       "  risk.fam\n",
       "  risk.bed\n",
       "  resuls.csv\n",
       "  score.csv\n",
       "  score.log\n",
       "  recode.vcf\n",
       "  risk.bim"
      ]
     },
     "execution_count": 16,
     "metadata": {},
     "output_type": "execute_result"
    }
   ],
   "source": [
    "FileLinks('.')"
   ]
  },
  {
   "cell_type": "code",
   "execution_count": null,
   "metadata": {},
   "outputs": [],
   "source": []
  }
 ],
 "metadata": {
  "kernelspec": {
   "display_name": "python/3.5",
   "language": "python",
   "name": "py3.5"
  },
  "language_info": {
   "codemirror_mode": {
    "name": "ipython",
    "version": 3
   },
   "file_extension": ".py",
   "mimetype": "text/x-python",
   "name": "python",
   "nbconvert_exporter": "python",
   "pygments_lexer": "ipython3",
   "version": "3.5.6"
  }
 },
 "nbformat": 4,
 "nbformat_minor": 2
}
