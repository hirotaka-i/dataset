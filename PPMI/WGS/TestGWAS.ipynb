{
 "cells": [
  {
   "cell_type": "markdown",
   "metadata": {},
   "source": [
    "# Conduct Test GWAS with PPMI WGS\n",
    "using build July-2018\n",
    "Only using Original cohort (PHENO 1/2)\n",
    "#### QC before the analysis\n",
    "Preparation: Exclude people with Phenotype -9\n",
    "\n",
    "1. SNP level filtering    \n",
    "1a. Call rate < 0.95 (And exclude people with Phenotype -9)    \n",
    "1b. MAF < 0.05 (in nonGenetic cohort)    \n",
    "2. Sample level filtering    \n",
    "2a. High missingness (Sample call rate < 0.95)    \n",
    "2b. Sex discordance (skipped: sex chromosomes not available. Checked differently)    \n",
    "2c. Extreme heterozygosity (|F|>0.15)    \n",
    "2d. Ancestory filtering    \n",
    "2e. Excess relatedness (pairwise kinship coefficients > 0.125 within cases or controls)    \n",
    "3. SNP level filtering (second)    \n",
    "3a.hwe < 1e-4 (among controls)   \n",
    "\n",
    "\n",
    "## Setup"
   ]
  },
  {
   "cell_type": "code",
   "execution_count": 1,
   "metadata": {},
   "outputs": [
    {
     "name": "stdout",
     "output_type": "stream",
     "text": [
      "/lscratch/22110112/GWAS exists\n"
     ]
    }
   ],
   "source": [
    "import pandas as pd\n",
    "import numpy as np\n",
    "import os\n",
    "import subprocess\n",
    "import glob\n",
    "from functools import partial\n",
    "from os import chdir\n",
    "import io\n",
    "from IPython.display import FileLinks, FileLink\n",
    "import time\n",
    "import matplotlib.pyplot as plt\n",
    "import sys\n",
    "\n",
    "tmp = '/lscratch/' + os.environ['SLURM_JOB_ID'] + '/GWAS'\n",
    "if os.path.exists(tmp):\n",
    "    print(tmp, 'exists')\n",
    "else:\n",
    "    os.mkdir(tmp)\n",
    "    print('Make', tmp)\n",
    "\n",
    "chdir(tmp)\n",
    "    \n",
    "def submitTerminal(command, printing=False, message=''):\n",
    "    # quick command to submit jobs to terminal\n",
    "    start = time.time()\n",
    "    res=subprocess.run(command.split(' '), stdout=subprocess.PIPE)\n",
    "    end = time.time()\n",
    "    sys.stdout.write('EXEC_TIME in sec: '+ str(round(end - start, 3)) + ' : ')\n",
    "    if printing:\n",
    "        print(res.stdout.decode('utf-8'))\n",
    "    if message=='':\n",
    "        return(res.stdout.decode('utf-8'))\n",
    "    else:\n",
    "        print(message, '\\n')\n",
    "\n",
    "def plinkB(input, output, options):\n",
    "    t = 'plink --bfile {B} {OPTIONS} --out {O}'\n",
    "    s = t.format(B=input, OPTIONS=options, O=output)\n",
    "    return s\n",
    "\n",
    "def showBfileShape(bfile):\n",
    "    res = subprocess.run(['wc', '-l', bfile + '.fam'], stdout=subprocess.PIPE)\n",
    "    N = res.stdout.decode('utf-8').split(' ')[0]\n",
    "    res = subprocess.run(['wc', '-l', bfile + '.bim'], stdout=subprocess.PIPE)\n",
    "    V = res.stdout.decode('utf-8').split(' ')[0]\n",
    "    ans = '=== {} ===\\nN = {}, V = {}'.format(bfile, N, V)\n",
    "    print(ans)\n",
    "\n",
    "FileLink = partial(FileLink, url_prefix=tmp)\n",
    "FileLinks = partial(FileLinks, url_prefix=tmp)"
   ]
  },
  {
   "cell_type": "markdown",
   "metadata": {},
   "source": [
    "## Original File\n",
    "N = Number of samples in the plink file    \n",
    "V = Number of variants in the plink file"
   ]
  },
  {
   "cell_type": "code",
   "execution_count": 2,
   "metadata": {},
   "outputs": [
    {
     "name": "stdout",
     "output_type": "stream",
     "text": [
      "=== /data/LNG/PPMI_WGS/july_2018/PPMI_july2018 ===\n",
      "N = 1379, V = 49900024\n"
     ]
    }
   ],
   "source": [
    "bfile = '/data/LNG/PPMI_WGS/july_2018/PPMI_july2018'\n",
    "showBfileShape(bfile)"
   ]
  },
  {
   "cell_type": "markdown",
   "metadata": {},
   "source": [
    "## Preparation\n",
    "Delete phenotype = -9 in fam file"
   ]
  },
  {
   "cell_type": "code",
   "execution_count": 3,
   "metadata": {},
   "outputs": [
    {
     "name": "stdout",
     "output_type": "stream",
     "text": [
      "EXEC_TIME in sec: 126.6 : plink done \n",
      "\n",
      "=== prep ===\n",
      "N = 1249, V = 49900024\n"
     ]
    }
   ],
   "source": [
    "bfile_in = bfile\n",
    "bfile_out = 'prep'\n",
    "t = submitTerminal(plinkB(bfile_in, bfile_out, '--prune --make-bed'), message='plink done')\n",
    "showBfileShape(bfile_out)"
   ]
  },
  {
   "cell_type": "markdown",
   "metadata": {},
   "source": [
    "## Step 1a Filter Variants: Low call rate"
   ]
  },
  {
   "cell_type": "code",
   "execution_count": 4,
   "metadata": {},
   "outputs": [
    {
     "name": "stdout",
     "output_type": "stream",
     "text": [
      "EXEC_TIME in sec: 101.124 : plink done \n",
      "\n",
      "=== 1a ===\n",
      "N = 1249, V = 48593323\n"
     ]
    }
   ],
   "source": [
    "bfile_in = bfile_out\n",
    "bfile_out = '1a'\n",
    "t = submitTerminal(plinkB(bfile_in, bfile_out, '--geno 0.05 --make-bed'), message='plink done')\n",
    "showBfileShape(bfile_out)"
   ]
  },
  {
   "cell_type": "markdown",
   "metadata": {},
   "source": [
    "## Step 1b Filter Variants: Rare varaints"
   ]
  },
  {
   "cell_type": "code",
   "execution_count": 5,
   "metadata": {},
   "outputs": [
    {
     "name": "stdout",
     "output_type": "stream",
     "text": [
      "EXEC_TIME in sec: 58.126 : plink done \n",
      "\n",
      "=== 1b ===\n",
      "N = 1249, V = 7127368\n"
     ]
    }
   ],
   "source": [
    "bfile_in = bfile_out\n",
    "bfile_out = '1b'\n",
    "t = submitTerminal(plinkB(bfile_in, bfile_out, '--maf 0.05 --make-bed'), message='plink done')\n",
    "showBfileShape(bfile_out)"
   ]
  },
  {
   "cell_type": "markdown",
   "metadata": {},
   "source": [
    "## Step 2a Filter samples: High missingness"
   ]
  },
  {
   "cell_type": "code",
   "execution_count": 6,
   "metadata": {},
   "outputs": [
    {
     "name": "stdout",
     "output_type": "stream",
     "text": [
      "EXEC_TIME in sec: 15.882 : plink done \n",
      "\n",
      "=== 2a ===\n",
      "N = 1249, V = 7127368\n"
     ]
    }
   ],
   "source": [
    "bfile_in = bfile_out\n",
    "bfile_out = '2a'\n",
    "t = submitTerminal(plinkB(bfile_in, bfile_out, '--mind 0.05 --make-bed'), message='plink done')\n",
    "showBfileShape(bfile_out)"
   ]
  },
  {
   "cell_type": "markdown",
   "metadata": {},
   "source": [
    "## Step 2c Filter samples: Extreme heterozygosity"
   ]
  },
  {
   "cell_type": "code",
   "execution_count": 7,
   "metadata": {},
   "outputs": [
    {
     "name": "stdout",
     "output_type": "stream",
     "text": [
      "EXEC_TIME in sec: 13.385 : pruning done \n",
      "\n",
      "EXEC_TIME in sec: 4.891 : pruned file created \n",
      "\n",
      "EXEC_TIME in sec: 0.497 : Heterozygosity calculated \n",
      "\n"
     ]
    }
   ],
   "source": [
    "bfile_in = bfile_out\n",
    "pruning = 'Pruning'\n",
    "bfile_pruned = 'Pruned'\n",
    "het = 'Heterozygosity'\n",
    "bfile_out = '2c'\n",
    "\n",
    "# pruning parameter can be modified\n",
    "t = submitTerminal(plinkB(bfile_in, pruning, '--indep-pairwise 50 5 0.1'), message='pruning done')\n",
    "t = submitTerminal(plinkB(bfile_in, bfile_pruned, '--extract ' + pruning + '.prune.in --make-bed'), \n",
    "                   message='pruned file created')\n",
    "t = submitTerminal(plinkB(bfile_pruned, het, '--het'),  message='Heterozygosity calculated')"
   ]
  },
  {
   "cell_type": "code",
   "execution_count": 8,
   "metadata": {},
   "outputs": [
    {
     "data": {
      "image/png": "[encoded data removed]",
      "text/plain": [
       "<Figure size 432x288 with 1 Axes>"
      ]
     },
     "metadata": {},
     "output_type": "display_data"
    }
   ],
   "source": [
    "df = pd.read_table('Heterozygosity.het', delim_whitespace=True)\n",
    "ax = df[['F']].plot.hist()"
   ]
  },
  {
   "cell_type": "code",
   "execution_count": 9,
   "metadata": {},
   "outputs": [
    {
     "name": "stdout",
     "output_type": "stream",
     "text": [
      "EXEC_TIME in sec: 17.578 : 2c done \n",
      "\n",
      "=== 2c ===\n",
      "N = 1237, V = 7127368\n"
     ]
    }
   ],
   "source": [
    "ListRemove = 'Hetrozygosity_Outlier.tab'\n",
    "df[df.F.abs() >= 0.15].to_csv(ListRemove, sep='\\t', index=False)\n",
    "t = submitTerminal(plinkB(bfile_in, bfile_out, '--remove ' + ListRemove + ' --make-bed'), message='2c done')\n",
    "showBfileShape(bfile_out)"
   ]
  },
  {
   "cell_type": "markdown",
   "metadata": {},
   "source": [
    "## Step 2d: Filter samples: non-Europeans\n",
    "Merge with 1000 Genome as reference (hg19 but doesn't matter because we use rsID)\n",
    "\n",
    "Look at the original hapmap file"
   ]
  },
  {
   "cell_type": "code",
   "execution_count": 10,
   "metadata": {},
   "outputs": [
    {
     "name": "stdout",
     "output_type": "stream",
     "text": [
      "=== /data/LNG/iwakih2/tool/hapmap/HAPMAP_hg19_new ===\n",
      "N = 640, V = 1101133\n"
     ]
    }
   ],
   "source": [
    "hapmap = '/data/LNG/iwakih2/tool/hapmap/HAPMAP_hg19_new'\n",
    "longLD = '/data/LNG/iwakih2/tool/longLD_hg38.txt'\n",
    "showBfileShape(hapmap)"
   ]
  },
  {
   "cell_type": "markdown",
   "metadata": {},
   "source": [
    "    \n",
    "    \n",
    "**Preparation step before merging**\n",
    "* exclude palindromes (A/T or C/G)\n",
    "* exclude longLD region"
   ]
  },
  {
   "cell_type": "code",
   "execution_count": 11,
   "metadata": {},
   "outputs": [
    {
     "data": {
      "text/plain": [
       "(85499,)"
      ]
     },
     "execution_count": 11,
     "metadata": {},
     "output_type": "execute_result"
    }
   ],
   "source": [
    "df = pd.read_table(hapmap+'.bim', delim_whitespace=True, header=None)\n",
    "df.columns=['CHR', 'RSID', '_', 'POS', 'ALT', 'REF']\n",
    "df = df.replace(['A', 'C', 'G', 'T'], [-10, -1, 1, 10]) # convert to values\n",
    "RSIDexclude = df.loc[df['ALT'] + df['REF'] ==0, 'RSID'] # 0 = A/T or C/G\n",
    "RSIDexclude.to_csv('palindrome.txt', index=False, header=False)\n",
    "RSIDexclude.shape"
   ]
  },
  {
   "cell_type": "code",
   "execution_count": 12,
   "metadata": {},
   "outputs": [
    {
     "name": "stdout",
     "output_type": "stream",
     "text": [
      "EXEC_TIME in sec: 1.648 : plink1 done \n",
      "\n",
      "EXEC_TIME in sec: 1.456 : reference created \n",
      "\n",
      "=== reference ===\n",
      "N = 640, V = 1015634\n"
     ]
    }
   ],
   "source": [
    "ref = 'reference'\n",
    "t = submitTerminal(plinkB(hapmap, 'temp', '--exclude palindrome.txt --make-bed'), message='plink1 done')\n",
    "t = submitTerminal(plinkB('temp', ref, '--exclude ' + longLD+ ' --make-bed'), message='reference created')\n",
    "showBfileShape(ref)"
   ]
  },
  {
   "cell_type": "code",
   "execution_count": 13,
   "metadata": {},
   "outputs": [
    {
     "name": "stdout",
     "output_type": "stream",
     "text": [
      "EXEC_TIME in sec: 12.446 : missnp for multi allelic site - potentially flipped \n",
      "\n",
      "925 tryMerge.missnp\n"
     ]
    }
   ],
   "source": [
    "bfile_in = bfile_out\n",
    "bfile_out= '2d'\n",
    "t = submitTerminal(plinkB(bfile_in, 'tryMerge', '--bmerge reference'),\n",
    "                  message = 'missnp for multi allelic site - potentially flipped')\n",
    "!wc -l tryMerge.missnp"
   ]
  },
  {
   "cell_type": "code",
   "execution_count": 14,
   "metadata": {},
   "outputs": [
    {
     "name": "stdout",
     "output_type": "stream",
     "text": [
      "EXEC_TIME in sec: 16.051 : create temp bfile \n",
      "\n",
      "EXEC_TIME in sec: 119.48 : create merged bfile \n",
      "\n",
      "=== merged ===\n",
      "N = 1877, V = 800745\n"
     ]
    }
   ],
   "source": [
    "bfile_merged = 'merged'\n",
    "t = submitTerminal(plinkB(bfile_in, 'temp', '--exclude tryMerge.missnp --make-bed'),\n",
    "                  message = 'create temp bfile')\n",
    "t = submitTerminal(plinkB('temp', bfile_merged, '--bmerge reference --geno 0.01 --make-bed'),\n",
    "                  message = 'create merged bfile')\n",
    "showBfileShape(bfile_merged)"
   ]
  },
  {
   "cell_type": "code",
   "execution_count": 15,
   "metadata": {},
   "outputs": [
    {
     "name": "stdout",
     "output_type": "stream",
     "text": [
      "EXEC_TIME in sec: 3.153 : pruning done \n",
      "\n",
      "EXEC_TIME in sec: 0.391 : pruned file created \n",
      "\n",
      "=== Pruned ===\n",
      "N = 1877, V = 7834\n"
     ]
    }
   ],
   "source": [
    "# pruning parameter can be modified\n",
    "t = submitTerminal(plinkB(bfile_merged, pruning, '--indep-pairwise 1000 10 0.01'), message='pruning done')\n",
    "t = submitTerminal(plinkB(bfile_merged, bfile_pruned, '--extract ' + pruning + '.prune.in --make-bed'), \n",
    "                   message='pruned file created')\n",
    "showBfileShape(bfile_pruned)"
   ]
  },
  {
   "cell_type": "code",
   "execution_count": 16,
   "metadata": {},
   "outputs": [
    {
     "name": "stdout",
     "output_type": "stream",
     "text": [
      "EXEC_TIME in sec: 232.529 : pca \n",
      "\n"
     ]
    }
   ],
   "source": [
    "t = submitTerminal(plinkB(bfile_merged, 'pca', '--pca header'), message='pca')"
   ]
  },
  {
   "cell_type": "markdown",
   "metadata": {},
   "source": [
    "Alternatively, we can use flashpca, which can calculate PCs for a few seconds\n",
    "\n",
    "Now look at the scree plot. "
   ]
  },
  {
   "cell_type": "code",
   "execution_count": 17,
   "metadata": {},
   "outputs": [],
   "source": [
    "df = pd.read_table('pca.eigenval', header=None)"
   ]
  },
  {
   "cell_type": "code",
   "execution_count": 18,
   "metadata": {},
   "outputs": [
    {
     "data": {
      "text/plain": [
       "<matplotlib.axes._subplots.AxesSubplot at 0x2aaae60c55c0>"
      ]
     },
     "execution_count": 18,
     "metadata": {},
     "output_type": "execute_result"
    },
    {
     "data": {
      "image/png": "[encoded data removed]",
      "text/plain": [
       "<Figure size 432x288 with 1 Axes>"
      ]
     },
     "metadata": {},
     "output_type": "display_data"
    }
   ],
   "source": [
    "df.plot.line()"
   ]
  },
  {
   "cell_type": "markdown",
   "metadata": {},
   "source": [
    "#### PCplot for PC1 and PC2"
   ]
  },
  {
   "cell_type": "code",
   "execution_count": 19,
   "metadata": {},
   "outputs": [
    {
     "data": {
      "text/plain": [
       "(1877, 6)"
      ]
     },
     "execution_count": 19,
     "metadata": {},
     "output_type": "execute_result"
    }
   ],
   "source": [
    "df = pd.read_table('pca.eigenvec', delim_whitespace=True)\n",
    "df[['IID', 'Population', 'Continent']] = df.IID.str.split('_', expand=True)\n",
    "df.fillna(value='1_STUDY', inplace=True)\n",
    "df = df.drop(columns = ['PC' + str(i) for i in range(3,21)])\n",
    "df.shape"
   ]
  },
  {
   "cell_type": "code",
   "execution_count": 20,
   "metadata": {},
   "outputs": [
    {
     "data": {
      "image/png": "[encoded data removed]",
      "text/plain": [
       "<Figure size 432x288 with 1 Axes>"
      ]
     },
     "metadata": {},
     "output_type": "display_data"
    }
   ],
   "source": [
    "colors = ['green', 'orange', 'blue', 'red']\n",
    "fig, ax = plt.subplots(1, 1)\n",
    "for i, (j, group) in enumerate(df.groupby('Continent')):\n",
    "    group.plot(kind='scatter', x='PC1', y='PC2',\n",
    "               color=colors[i], ax=ax, label=j)"
   ]
  },
  {
   "cell_type": "markdown",
   "metadata": {},
   "source": [
    "Only keep people with European ancestry"
   ]
  },
  {
   "cell_type": "code",
   "execution_count": 21,
   "metadata": {},
   "outputs": [
    {
     "data": {
      "text/plain": [
       "(1384, 6)"
      ]
     },
     "execution_count": 21,
     "metadata": {},
     "output_type": "execute_result"
    }
   ],
   "source": [
    "euro_mean = df.groupby('Continent').mean().loc['EUROPE'] \n",
    "euro_std = df.groupby('Continent').std().loc['EUROPE']\n",
    "euro_lwl = euro_mean - 6 * euro_std\n",
    "euro_upl = euro_mean + 6 * euro_std\n",
    "df_euro = df[(euro_lwl.PC1 < df.PC1) & (df.PC1 < euro_upl.PC1) & \\\n",
    "             (euro_lwl.PC2 < df.PC2) & (df.PC2 < euro_upl.PC2)]\n",
    "df_euro.shape"
   ]
  },
  {
   "cell_type": "code",
   "execution_count": 22,
   "metadata": {},
   "outputs": [
    {
     "data": {
      "image/png": "[encoded data removed]",
      "text/plain": [
       "<Figure size 432x288 with 1 Axes>"
      ]
     },
     "metadata": {},
     "output_type": "display_data"
    }
   ],
   "source": [
    "colors = ['green', 'red']\n",
    "fig, ax = plt.subplots(1, 1)\n",
    "for i, (j, group) in enumerate(df_euro.groupby('Continent')):\n",
    "        group.plot(kind='scatter', x='PC1', y='PC2', color=colors[i], ax=ax, label=j)"
   ]
  },
  {
   "cell_type": "code",
   "execution_count": 23,
   "metadata": {},
   "outputs": [],
   "source": [
    "df_euro.loc[df.Population=='1_STUDY', :][['FID', 'IID']].to_csv('Euro.txt', index=False, sep='\\t')"
   ]
  },
  {
   "cell_type": "code",
   "execution_count": 24,
   "metadata": {},
   "outputs": [
    {
     "name": "stdout",
     "output_type": "stream",
     "text": [
      "EXEC_TIME in sec: 13.383 : 2d finisehd \n",
      "\n",
      "=== 2d ===\n",
      "N = 1189, V = 7127368\n"
     ]
    }
   ],
   "source": [
    "t = submitTerminal(plinkB(bfile_in, bfile_out, '--keep Euro.txt' + ' --make-bed'), \n",
    "                   message='2d finisehd')\n",
    "showBfileShape(bfile_out)"
   ]
  },
  {
   "cell_type": "markdown",
   "metadata": {},
   "source": [
    "## Step 2e: Filter samples: related samples"
   ]
  },
  {
   "cell_type": "code",
   "execution_count": 25,
   "metadata": {},
   "outputs": [
    {
     "name": "stdout",
     "output_type": "stream",
     "text": [
      "EXEC_TIME in sec: 12.513 : pruning done \n",
      "\n",
      "EXEC_TIME in sec: 3.446 : pruned file created \n",
      "\n",
      "EXEC_TIME in sec: 2.441 : List of unrelated \n",
      "\n",
      "EXEC_TIME in sec: 14.727 : Unrealted file created \n",
      "\n",
      "=== 2e ===\n",
      "N = 1096, V = 7127368\n"
     ]
    }
   ],
   "source": [
    "bfile_in = bfile_out\n",
    "bfile_out = '2e'\n",
    "t = submitTerminal(plinkB(bfile_in, pruning, '--indep-pairwise 1000 10 0.01'), message='pruning done')\n",
    "t = submitTerminal(plinkB(bfile_in, bfile_pruned, '--extract ' + pruning + '.prune.in --make-bed'), \n",
    "                   message='pruned file created')\n",
    "t = submitTerminal(plinkB(bfile_pruned, 'unrelated', '--rel-cutoff 0.125'), message='List of unrelated')\n",
    "t = submitTerminal(plinkB(bfile_in, bfile_out, '--keep unrelated.rel.id --make-bed'), \n",
    "                   message='Unrealted file created')\n",
    "showBfileShape(bfile_out)"
   ]
  },
  {
   "cell_type": "markdown",
   "metadata": {},
   "source": [
    "## Step 3a: Filter variants: HEW"
   ]
  },
  {
   "cell_type": "code",
   "execution_count": 26,
   "metadata": {},
   "outputs": [
    {
     "name": "stdout",
     "output_type": "stream",
     "text": [
      "EXEC_TIME in sec: 4.863 : write snps \n",
      "\n",
      "EXEC_TIME in sec: 12.117 : plink done \n",
      "\n",
      "EXEC_TIME in sec: 0.017 : N =  1096 3a.fam\n",
      "\n",
      "EXEC_TIME in sec: 0.157 : V =  7036105 3a.bim\n",
      "\n"
     ]
    }
   ],
   "source": [
    "bfile_in = bfile_out\n",
    "bfile_out = '3a'\n",
    "t = submitTerminal(plinkB(bfile_in, 'hwe', '--filter-controls --hwe 1E-4 --write-snplist'), \n",
    "                   message='write snps')\n",
    "t = submitTerminal(plinkB(bfile_in, bfile_out, '--extract hwe.snplist --make-bed'), \n",
    "                   message='plink done')\n",
    "print('N = ', submitTerminal('wc -l '+ bfile_out + '.fam'))\n",
    "print('V = ', submitTerminal('wc -l '+ bfile_out + '.bim'))"
   ]
  },
  {
   "cell_type": "markdown",
   "metadata": {},
   "source": [
    "## Summary of QC steps"
   ]
  },
  {
   "cell_type": "code",
   "execution_count": 30,
   "metadata": {},
   "outputs": [
    {
     "name": "stdout",
     "output_type": "stream",
     "text": [
      "=== /data/LNG/PPMI_WGS/july_2018/PPMI_july2018 ===\n",
      "N = 1379, V = 49900024\n",
      "=== prep ===\n",
      "N = 1249, V = 49900024\n",
      "=== 1a ===\n",
      "N = 1249, V = 48593323\n",
      "=== 1b ===\n",
      "N = 1249, V = 7127368\n",
      "=== 2a ===\n",
      "N = 1249, V = 7127368\n",
      "=== 2c ===\n",
      "N = 1237, V = 7127368\n",
      "=== 2d ===\n",
      "N = 1189, V = 7127368\n",
      "=== 2e ===\n",
      "N = 1096, V = 7127368\n",
      "=== 3a ===\n",
      "N = 1096, V = 7036105\n"
     ]
    }
   ],
   "source": [
    "for bfile in ['/data/LNG/PPMI_WGS/july_2018/PPMI_july2018', 'prep', '1a', '1b', '2a', '2c', '2d', '2e', '3a']:\n",
    "    showBfileShape(bfile)"
   ]
  },
  {
   "cell_type": "markdown",
   "metadata": {},
   "source": [
    "# Conduct GWAS"
   ]
  },
  {
   "cell_type": "code",
   "execution_count": 27,
   "metadata": {},
   "outputs": [
    {
     "name": "stdout",
     "output_type": "stream",
     "text": [
      "EXEC_TIME in sec: 11.815 : pruning done \n",
      "\n",
      "EXEC_TIME in sec: 3.414 : pruned file created \n",
      "\n",
      "EXEC_TIME in sec: 2.703 : pca \n",
      "\n"
     ]
    }
   ],
   "source": [
    "## Create pca\n",
    "bfile_in = bfile_out\n",
    "t = submitTerminal(plinkB(bfile_in, pruning, '--indep-pairwise 1000 10 0.01'), message='pruning done')\n",
    "t = submitTerminal(plinkB(bfile_in, bfile_pruned, '--extract ' + pruning + '.prune.in --make-bed'), \n",
    "                   message='pruned file created')\n",
    "t = submitTerminal(plinkB(bfile_pruned, 'pca', '--pca 10 header'), message='pca')"
   ]
  },
  {
   "cell_type": "code",
   "execution_count": 28,
   "metadata": {},
   "outputs": [
    {
     "name": "stdout",
     "output_type": "stream",
     "text": [
      "EXEC_TIME in sec: 722.984 : GWAS done \n",
      "\n"
     ]
    }
   ],
   "source": [
    "t = submitTerminal(plinkB(bfile_in, 'gwas', \n",
    "                          '--logistic --sex --covar pca.eigenvec --hide-covar'),\n",
    "                   message='GWAS done')"
   ]
  },
  {
   "cell_type": "code",
   "execution_count": 31,
   "metadata": {},
   "outputs": [
    {
     "name": "stdout",
     "output_type": "stream",
     "text": [
      " CHR             SNP         BP   A1       TEST    NMISS         OR         STAT            P \n",
      "   1      chr1:10439      10439 ACCCT        ADD     1074     0.9605      -0.2627       0.7928\n",
      "   1     rs370886505      14397    C        ADD     1082      1.184       0.8924       0.3722\n",
      "   1     rs199652822      16841    T        ADD     1096      1.124       0.5781       0.5632\n",
      "   1     rs369606208      17365    G        ADD     1096      1.006      0.02965       0.9764\n",
      "   1     rs374545136      17556    T        ADD     1096      1.308        1.397       0.1623\n",
      "   1     rs377698370      17594    T        ADD     1096      1.019      0.08686       0.9308\n",
      "   1     rs376731495      17722    G        ADD     1096      1.175       0.8498       0.3954\n",
      "   1      chr1:17730      17730    A        ADD     1096      1.237        1.113       0.2656\n",
      "   1      chr1:19217      19217    C        ADD     1096      1.101       0.5381       0.5905\n"
     ]
    }
   ],
   "source": [
    "!head gwas.assoc.logistic"
   ]
  },
  {
   "cell_type": "markdown",
   "metadata": {},
   "source": [
    "## QQplot and MH plot using qqman"
   ]
  },
  {
   "cell_type": "code",
   "execution_count": 36,
   "metadata": {},
   "outputs": [
    {
     "name": "stdout",
     "output_type": "stream",
     "text": [
      "Loading required package: qqman\n",
      "\n",
      "For example usage please run: vignette('qqman')\n",
      "\n",
      "Citation appreciated but not required:\n",
      "Turner, S.D. qqman: an R package for visualizing GWAS results using Q-Q and manhattan plots. biorXiv DOI: 10.1101/005165 (2014).\n",
      "\n",
      "Loading required package: data.table\n",
      "Loading required package: dplyr\n",
      "\n",
      "Attaching package: 'dplyr'\n",
      "\n",
      "The following objects are masked from 'package:data.table':\n",
      "\n",
      "    between, first, last\n",
      "\n",
      "The following objects are masked from 'package:stats':\n",
      "\n",
      "    filter, lag\n",
      "\n",
      "The following objects are masked from 'package:base':\n",
      "\n",
      "    intersect, setdiff, setequal, union\n",
      "\n",
      "null device \n",
      "          1 \n",
      "null device \n",
      "          1 \n"
     ]
    }
   ],
   "source": [
    "t = \"\"\"\n",
    "require(\"qqman\");require(\"data.table\");require(dplyr)\n",
    "t = commandArgs(trailingOnly = TRUE)\n",
    "FILE=t[1]\n",
    "MH = fread(FILE)\n",
    "# lambda\n",
    "chisq <- qchisq(MH$P, 1, lower.tail = F)\n",
    "lambda = median(chisq)/qchisq(0.5,1)\n",
    "# QQ plot\n",
    "png(\"QQ.png\")\n",
    "qq(MH$P)\n",
    "text(4, 1, sprintf(\"lambda = %.3f\", lambda))\n",
    "text(4, 2, paste(\"N of variants =\", nrow(MH)))\n",
    "dev.off()\n",
    "# MH plot if lambda is not too large.\n",
    "if(lambda < 2){\n",
    "    maxlogP=-log10(min(MH$P))\n",
    "    png(\"MH.png\", width=2000, height=1000, pointsize=18)\n",
    "    manhattan(MH, col = c(\"blue4\", \"orange3\"), p = \"P\", cex.axis = 0.6, annotatePval = 0.0000001)\n",
    "    dev.off()\n",
    "}\n",
    "\"\"\"\n",
    "with open('QQMH.R', 'w') as f:\n",
    "    f.write(t)\n",
    "!Rscript --vanilla QQMH.R gwas.assoc.logistic "
   ]
  },
  {
   "cell_type": "markdown",
   "metadata": {},
   "source": [
    "![qqplot](/lscratch/22110112/GWAS/QQ.png)"
   ]
  },
  {
   "cell_type": "markdown",
   "metadata": {},
   "source": [
    "![MH](/lscratch/22110112/GWAS/MH.png)"
   ]
  },
  {
   "cell_type": "markdown",
   "metadata": {},
   "source": []
  }
 ],
 "metadata": {
  "kernelspec": {
   "display_name": "python/3.5",
   "language": "python",
   "name": "py3.5"
  },
  "language_info": {
   "codemirror_mode": {
    "name": "ipython",
    "version": 3
   },
   "file_extension": ".py",
   "mimetype": "text/x-python",
   "name": "python",
   "nbconvert_exporter": "python",
   "pygments_lexer": "ipython3",
   "version": "3.5.6"
  }
 },
 "nbformat": 4,
 "nbformat_minor": 2
}
